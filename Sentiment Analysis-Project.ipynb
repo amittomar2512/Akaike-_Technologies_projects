{
 "cells": [
  {
   "cell_type": "code",
   "execution_count": 1,
   "id": "61381fe7",
   "metadata": {},
   "outputs": [],
   "source": [
    "import pandas as pd"
   ]
  },
  {
   "cell_type": "code",
   "execution_count": 2,
   "id": "28a3fd36",
   "metadata": {},
   "outputs": [],
   "source": [
    "import numpy as np"
   ]
  },
  {
   "cell_type": "code",
   "execution_count": 3,
   "id": "d58fe378",
   "metadata": {},
   "outputs": [],
   "source": [
    "tweet=pd.read_json(\"tweets.json\")"
   ]
  },
  {
   "cell_type": "code",
   "execution_count": 4,
   "id": "726ff468",
   "metadata": {},
   "outputs": [
    {
     "data": {
      "text/html": [
       "<div>\n",
       "<style scoped>\n",
       "    .dataframe tbody tr th:only-of-type {\n",
       "        vertical-align: middle;\n",
       "    }\n",
       "\n",
       "    .dataframe tbody tr th {\n",
       "        vertical-align: top;\n",
       "    }\n",
       "\n",
       "    .dataframe thead th {\n",
       "        text-align: right;\n",
       "    }\n",
       "</style>\n",
       "<table border=\"1\" class=\"dataframe\">\n",
       "  <thead>\n",
       "    <tr style=\"text-align: right;\">\n",
       "      <th></th>\n",
       "      <th>2013-07-18 09:39:46.071961602</th>\n",
       "      <th>2013-07-17 03:40:32.173842437</th>\n",
       "      <th>2013-07-15 15:41:16.553048065</th>\n",
       "      <th>2013-07-12 19:19:42.367813635</th>\n",
       "      <th>2013-07-04 12:40:34.334232586</th>\n",
       "      <th>2013-07-04 08:44:42.278539265</th>\n",
       "      <th>2013-07-04 04:22:03.305394179</th>\n",
       "      <th>2013-07-03 21:48:41.159868423</th>\n",
       "      <th>2013-07-03 15:55:15.081797632</th>\n",
       "      <th>2013-07-03 04:25:53.837944834</th>\n",
       "      <th>...</th>\n",
       "      <th>1987-06-22 19:36:28.372967425</th>\n",
       "      <th>1987-06-22 13:38:05.220745216</th>\n",
       "      <th>1987-06-20 01:14:46.517178368</th>\n",
       "      <th>1987-06-19 13:30:22.587748353</th>\n",
       "      <th>1987-06-19 13:03:48.404117505</th>\n",
       "      <th>1987-06-19 12:17:53.643945985</th>\n",
       "      <th>1987-06-19 12:06:26.675290112</th>\n",
       "      <th>1987-06-17 23:05:41.186953217</th>\n",
       "      <th>1987-06-17 15:18:00.525635584</th>\n",
       "      <th>1987-06-13 10:44:06.537678849</th>\n",
       "    </tr>\n",
       "  </thead>\n",
       "  <tbody>\n",
       "    <tr>\n",
       "      <th>tweet_author</th>\n",
       "      <td>Hematopoiesis News</td>\n",
       "      <td>Michael Wang, MD</td>\n",
       "      <td>1stOncology</td>\n",
       "      <td>Toby Eyre</td>\n",
       "      <td>Lymphoma Hub</td>\n",
       "      <td>David Ledger</td>\n",
       "      <td>N Wales Cancer Forum</td>\n",
       "      <td>European Pharmaceutical Review</td>\n",
       "      <td>Graham Collins</td>\n",
       "      <td>CLL Ireland</td>\n",
       "      <td>...</td>\n",
       "      <td>C A R E N</td>\n",
       "      <td>Werneth Cricket</td>\n",
       "      <td>John P. Leonard, MD</td>\n",
       "      <td>Joy is a Lifestyle</td>\n",
       "      <td>Micheál 🇮🇪</td>\n",
       "      <td>Joy is a Lifestyle</td>\n",
       "      <td>𝓒𝓻𝓲𝔃𝔃𝔂 𝓟𝓮𝓻𝓻𝔂🌹</td>\n",
       "      <td>IQWiG</td>\n",
       "      <td>Medibooks</td>\n",
       "      <td>Medibooks</td>\n",
       "    </tr>\n",
       "    <tr>\n",
       "      <th>tweet_text</th>\n",
       "      <td>⚕️ Scientists conducted a Phase II study of ac...</td>\n",
       "      <td>This phase 2 Acalabrutinib-Venetoclax (AV) tri...</td>\n",
       "      <td>#NICE backs #AstraZenecas #Calquence for #CLL ...</td>\n",
       "      <td>#acalabrutinib is a valuable option in pts int...</td>\n",
       "      <td>NICE has recommended the use of acalabrutinib ...</td>\n",
       "      <td>NICE backs AstraZeneca’s Calquence for CLL htt...</td>\n",
       "      <td>This is England for now - these decisions usua...</td>\n",
       "      <td>AstraZeneca’s Calquence (acalabrutinib), a che...</td>\n",
       "      <td>Superstar @tobyeyre82 responding to the excell...</td>\n",
       "      <td>CLL patients all know the drug Ibrutinib and y...</td>\n",
       "      <td>...</td>\n",
       "      <td>I miss them! 😋😆😅\\n\\n#FotoRus #FriendshipForeve...</td>\n",
       "      <td>The fixtures are out, first team will travel t...</td>\n",
       "      <td>Partnering @GileadSciences &amp;amp;Ono BTKi-combo...</td>\n",
       "      <td>Hanging out with Friends! :) #FF #CLL #Happine...</td>\n",
       "      <td>What I'd do to go to Gerrard's last game at An...</td>\n",
       "      <td>Hanging out with Friends! :) #FF #CLL #Happine...</td>\n",
       "      <td>Hanging out with Friends! :) #FF #CLL #Happine...</td>\n",
       "      <td>Zusatznutzen von #Idelalisib ist weder für #CL...</td>\n",
       "      <td>#Hematología PTK2 EXPRESSION AND IMMUNOCHEMOTH...</td>\n",
       "      <td>#Hematología MUTATIONS IN TLR/MYD88 PATHWAY ID...</td>\n",
       "    </tr>\n",
       "  </tbody>\n",
       "</table>\n",
       "<p>2 rows × 43347 columns</p>\n",
       "</div>"
      ],
      "text/plain": [
       "                                  2013-07-18 09:39:46.071961602  \\\n",
       "tweet_author                                 Hematopoiesis News   \n",
       "tweet_text    ⚕️ Scientists conducted a Phase II study of ac...   \n",
       "\n",
       "                                  2013-07-17 03:40:32.173842437  \\\n",
       "tweet_author                                   Michael Wang, MD   \n",
       "tweet_text    This phase 2 Acalabrutinib-Venetoclax (AV) tri...   \n",
       "\n",
       "                                  2013-07-15 15:41:16.553048065  \\\n",
       "tweet_author                                        1stOncology   \n",
       "tweet_text    #NICE backs #AstraZenecas #Calquence for #CLL ...   \n",
       "\n",
       "                                  2013-07-12 19:19:42.367813635  \\\n",
       "tweet_author                                          Toby Eyre   \n",
       "tweet_text    #acalabrutinib is a valuable option in pts int...   \n",
       "\n",
       "                                  2013-07-04 12:40:34.334232586  \\\n",
       "tweet_author                                       Lymphoma Hub   \n",
       "tweet_text    NICE has recommended the use of acalabrutinib ...   \n",
       "\n",
       "                                  2013-07-04 08:44:42.278539265  \\\n",
       "tweet_author                                       David Ledger   \n",
       "tweet_text    NICE backs AstraZeneca’s Calquence for CLL htt...   \n",
       "\n",
       "                                  2013-07-04 04:22:03.305394179  \\\n",
       "tweet_author                               N Wales Cancer Forum   \n",
       "tweet_text    This is England for now - these decisions usua...   \n",
       "\n",
       "                                  2013-07-03 21:48:41.159868423  \\\n",
       "tweet_author                     European Pharmaceutical Review   \n",
       "tweet_text    AstraZeneca’s Calquence (acalabrutinib), a che...   \n",
       "\n",
       "                                  2013-07-03 15:55:15.081797632  \\\n",
       "tweet_author                                     Graham Collins   \n",
       "tweet_text    Superstar @tobyeyre82 responding to the excell...   \n",
       "\n",
       "                                  2013-07-03 04:25:53.837944834  ...  \\\n",
       "tweet_author                                        CLL Ireland  ...   \n",
       "tweet_text    CLL patients all know the drug Ibrutinib and y...  ...   \n",
       "\n",
       "                                  1987-06-22 19:36:28.372967425  \\\n",
       "tweet_author                                          C A R E N   \n",
       "tweet_text    I miss them! 😋😆😅\\n\\n#FotoRus #FriendshipForeve...   \n",
       "\n",
       "                                  1987-06-22 13:38:05.220745216  \\\n",
       "tweet_author                                    Werneth Cricket   \n",
       "tweet_text    The fixtures are out, first team will travel t...   \n",
       "\n",
       "                                  1987-06-20 01:14:46.517178368  \\\n",
       "tweet_author                                John P. Leonard, MD   \n",
       "tweet_text    Partnering @GileadSciences &amp;Ono BTKi-combo...   \n",
       "\n",
       "                                  1987-06-19 13:30:22.587748353  \\\n",
       "tweet_author                                 Joy is a Lifestyle   \n",
       "tweet_text    Hanging out with Friends! :) #FF #CLL #Happine...   \n",
       "\n",
       "                                  1987-06-19 13:03:48.404117505  \\\n",
       "tweet_author                                         Micheál 🇮🇪   \n",
       "tweet_text    What I'd do to go to Gerrard's last game at An...   \n",
       "\n",
       "                                  1987-06-19 12:17:53.643945985  \\\n",
       "tweet_author                                 Joy is a Lifestyle   \n",
       "tweet_text    Hanging out with Friends! :) #FF #CLL #Happine...   \n",
       "\n",
       "                                  1987-06-19 12:06:26.675290112  \\\n",
       "tweet_author                                      𝓒𝓻𝓲𝔃𝔃𝔂 𝓟𝓮𝓻𝓻𝔂🌹   \n",
       "tweet_text    Hanging out with Friends! :) #FF #CLL #Happine...   \n",
       "\n",
       "                                  1987-06-17 23:05:41.186953217  \\\n",
       "tweet_author                                              IQWiG   \n",
       "tweet_text    Zusatznutzen von #Idelalisib ist weder für #CL...   \n",
       "\n",
       "                                  1987-06-17 15:18:00.525635584  \\\n",
       "tweet_author                                          Medibooks   \n",
       "tweet_text    #Hematología PTK2 EXPRESSION AND IMMUNOCHEMOTH...   \n",
       "\n",
       "                                  1987-06-13 10:44:06.537678849  \n",
       "tweet_author                                          Medibooks  \n",
       "tweet_text    #Hematología MUTATIONS IN TLR/MYD88 PATHWAY ID...  \n",
       "\n",
       "[2 rows x 43347 columns]"
      ]
     },
     "execution_count": 4,
     "metadata": {},
     "output_type": "execute_result"
    }
   ],
   "source": [
    "tweet.head()"
   ]
  },
  {
   "cell_type": "code",
   "execution_count": 5,
   "id": "0e6f139a",
   "metadata": {},
   "outputs": [],
   "source": [
    "df1=tweet.loc['tweet_author'].to_list()"
   ]
  },
  {
   "cell_type": "code",
   "execution_count": 6,
   "id": "4ed709fa",
   "metadata": {},
   "outputs": [],
   "source": [
    "df2=tweet.loc['tweet_text'].to_list()"
   ]
  },
  {
   "cell_type": "code",
   "execution_count": 7,
   "id": "902f1199",
   "metadata": {},
   "outputs": [],
   "source": [
    "tweet_author=pd.DataFrame(df1)\n",
    "tweet_author.columns=['tweet_author']"
   ]
  },
  {
   "cell_type": "code",
   "execution_count": 8,
   "id": "1df128a0",
   "metadata": {},
   "outputs": [],
   "source": [
    "tweet_text=pd.DataFrame(df2)\n",
    "tweet_text.columns=['tweet_text']"
   ]
  },
  {
   "cell_type": "code",
   "execution_count": 9,
   "id": "907d1618",
   "metadata": {},
   "outputs": [],
   "source": [
    "sentiment=pd.concat([tweet_author,tweet_text],axis=1)"
   ]
  },
  {
   "cell_type": "code",
   "execution_count": 10,
   "id": "250dea97",
   "metadata": {},
   "outputs": [
    {
     "data": {
      "text/html": [
       "<div>\n",
       "<style scoped>\n",
       "    .dataframe tbody tr th:only-of-type {\n",
       "        vertical-align: middle;\n",
       "    }\n",
       "\n",
       "    .dataframe tbody tr th {\n",
       "        vertical-align: top;\n",
       "    }\n",
       "\n",
       "    .dataframe thead th {\n",
       "        text-align: right;\n",
       "    }\n",
       "</style>\n",
       "<table border=\"1\" class=\"dataframe\">\n",
       "  <thead>\n",
       "    <tr style=\"text-align: right;\">\n",
       "      <th></th>\n",
       "      <th>tweet_author</th>\n",
       "      <th>tweet_text</th>\n",
       "    </tr>\n",
       "  </thead>\n",
       "  <tbody>\n",
       "    <tr>\n",
       "      <th>0</th>\n",
       "      <td>Hematopoiesis News</td>\n",
       "      <td>⚕️ Scientists conducted a Phase II study of ac...</td>\n",
       "    </tr>\n",
       "    <tr>\n",
       "      <th>1</th>\n",
       "      <td>Michael Wang, MD</td>\n",
       "      <td>This phase 2 Acalabrutinib-Venetoclax (AV) tri...</td>\n",
       "    </tr>\n",
       "    <tr>\n",
       "      <th>2</th>\n",
       "      <td>1stOncology</td>\n",
       "      <td>#NICE backs #AstraZenecas #Calquence for #CLL ...</td>\n",
       "    </tr>\n",
       "    <tr>\n",
       "      <th>3</th>\n",
       "      <td>Toby Eyre</td>\n",
       "      <td>#acalabrutinib is a valuable option in pts int...</td>\n",
       "    </tr>\n",
       "    <tr>\n",
       "      <th>4</th>\n",
       "      <td>Lymphoma Hub</td>\n",
       "      <td>NICE has recommended the use of acalabrutinib ...</td>\n",
       "    </tr>\n",
       "  </tbody>\n",
       "</table>\n",
       "</div>"
      ],
      "text/plain": [
       "         tweet_author                                         tweet_text\n",
       "0  Hematopoiesis News  ⚕️ Scientists conducted a Phase II study of ac...\n",
       "1    Michael Wang, MD  This phase 2 Acalabrutinib-Venetoclax (AV) tri...\n",
       "2         1stOncology  #NICE backs #AstraZenecas #Calquence for #CLL ...\n",
       "3           Toby Eyre  #acalabrutinib is a valuable option in pts int...\n",
       "4        Lymphoma Hub  NICE has recommended the use of acalabrutinib ..."
      ]
     },
     "execution_count": 10,
     "metadata": {},
     "output_type": "execute_result"
    }
   ],
   "source": [
    "sentiment.head()"
   ]
  },
  {
   "cell_type": "code",
   "execution_count": 11,
   "id": "6859b186",
   "metadata": {},
   "outputs": [],
   "source": [
    "import re"
   ]
  },
  {
   "cell_type": "code",
   "execution_count": 12,
   "id": "ca37a19c",
   "metadata": {},
   "outputs": [],
   "source": [
    "def clean_text(text):\n",
    "    text=re.sub(r'https?:\\/\\/s+',' ',text)\n",
    "    text=re.sub('[^a-zA-Z]',' ',text)\n",
    "    text=text.lower()\n",
    "    return text\n",
    "\n",
    "\n",
    "sentiment['tweet_text']=sentiment['tweet_text'].apply(clean_text)"
   ]
  },
  {
   "cell_type": "code",
   "execution_count": 13,
   "id": "86ec83e9",
   "metadata": {},
   "outputs": [
    {
     "data": {
      "text/html": [
       "<div>\n",
       "<style scoped>\n",
       "    .dataframe tbody tr th:only-of-type {\n",
       "        vertical-align: middle;\n",
       "    }\n",
       "\n",
       "    .dataframe tbody tr th {\n",
       "        vertical-align: top;\n",
       "    }\n",
       "\n",
       "    .dataframe thead th {\n",
       "        text-align: right;\n",
       "    }\n",
       "</style>\n",
       "<table border=\"1\" class=\"dataframe\">\n",
       "  <thead>\n",
       "    <tr style=\"text-align: right;\">\n",
       "      <th></th>\n",
       "      <th>tweet_author</th>\n",
       "      <th>tweet_text</th>\n",
       "    </tr>\n",
       "  </thead>\n",
       "  <tbody>\n",
       "    <tr>\n",
       "      <th>24371</th>\n",
       "      <td>Genomics England</td>\n",
       "      <td>read this  genomes   k pilot study in the brit...</td>\n",
       "    </tr>\n",
       "    <tr>\n",
       "      <th>37559</th>\n",
       "      <td>AbbVie</td>\n",
       "      <td>join us to create new ways to support patients...</td>\n",
       "    </tr>\n",
       "    <tr>\n",
       "      <th>32773</th>\n",
       "      <td>Blood Cancer UK</td>\n",
       "      <td>cll patient reveals how getting fit has helpe...</td>\n",
       "    </tr>\n",
       "    <tr>\n",
       "      <th>25013</th>\n",
       "      <td>Christopher Steer</td>\n",
       "      <td>incidence and management of toxicity associate...</td>\n",
       "    </tr>\n",
       "    <tr>\n",
       "      <th>12944</th>\n",
       "      <td>Oncology Tube</td>\n",
       "      <td>cll    data trial in chronic lymphocytic leuke...</td>\n",
       "    </tr>\n",
       "    <tr>\n",
       "      <th>15995</th>\n",
       "      <td>Medscape Education</td>\n",
       "      <td>iwcll     now live   leveraging next generati...</td>\n",
       "    </tr>\n",
       "    <tr>\n",
       "      <th>17876</th>\n",
       "      <td>Club Libertad Limpeño</td>\n",
       "      <td>final  ida    cdc vs   cll        goooool    ...</td>\n",
       "    </tr>\n",
       "    <tr>\n",
       "      <th>27259</th>\n",
       "      <td>Fredericton's Pure Country 103.5</td>\n",
       "      <td>n b  mp dominic leblanc diagnosed with chronic...</td>\n",
       "    </tr>\n",
       "    <tr>\n",
       "      <th>23510</th>\n",
       "      <td>ACS Journal Cancer</td>\n",
       "      <td>more frequent use of health care services amon...</td>\n",
       "    </tr>\n",
       "    <tr>\n",
       "      <th>2185</th>\n",
       "      <td>Forbes Science</td>\n",
       "      <td>the blood cancer drug has been given to a smal...</td>\n",
       "    </tr>\n",
       "  </tbody>\n",
       "</table>\n",
       "</div>"
      ],
      "text/plain": [
       "                           tweet_author  \\\n",
       "24371                  Genomics England   \n",
       "37559                            AbbVie   \n",
       "32773                   Blood Cancer UK   \n",
       "25013                 Christopher Steer   \n",
       "12944                     Oncology Tube   \n",
       "15995                Medscape Education   \n",
       "17876             Club Libertad Limpeño   \n",
       "27259  Fredericton's Pure Country 103.5   \n",
       "23510                ACS Journal Cancer   \n",
       "2185                     Forbes Science   \n",
       "\n",
       "                                              tweet_text  \n",
       "24371  read this  genomes   k pilot study in the brit...  \n",
       "37559  join us to create new ways to support patients...  \n",
       "32773   cll patient reveals how getting fit has helpe...  \n",
       "25013  incidence and management of toxicity associate...  \n",
       "12944  cll    data trial in chronic lymphocytic leuke...  \n",
       "15995   iwcll     now live   leveraging next generati...  \n",
       "17876   final  ida    cdc vs   cll        goooool    ...  \n",
       "27259  n b  mp dominic leblanc diagnosed with chronic...  \n",
       "23510  more frequent use of health care services amon...  \n",
       "2185   the blood cancer drug has been given to a smal...  "
      ]
     },
     "execution_count": 13,
     "metadata": {},
     "output_type": "execute_result"
    }
   ],
   "source": [
    "sentiment.sample(10)"
   ]
  },
  {
   "cell_type": "code",
   "execution_count": 14,
   "id": "53b005e3",
   "metadata": {},
   "outputs": [
    {
     "data": {
      "text/html": [
       "<div>\n",
       "<style scoped>\n",
       "    .dataframe tbody tr th:only-of-type {\n",
       "        vertical-align: middle;\n",
       "    }\n",
       "\n",
       "    .dataframe tbody tr th {\n",
       "        vertical-align: top;\n",
       "    }\n",
       "\n",
       "    .dataframe thead th {\n",
       "        text-align: right;\n",
       "    }\n",
       "</style>\n",
       "<table border=\"1\" class=\"dataframe\">\n",
       "  <thead>\n",
       "    <tr style=\"text-align: right;\">\n",
       "      <th></th>\n",
       "      <th>tweet_author</th>\n",
       "      <th>tweet_text</th>\n",
       "    </tr>\n",
       "  </thead>\n",
       "  <tbody>\n",
       "    <tr>\n",
       "      <th>0</th>\n",
       "      <td>Hematopoiesis News</td>\n",
       "      <td>scientists conducted a phase ii study of ac...</td>\n",
       "    </tr>\n",
       "    <tr>\n",
       "      <th>1</th>\n",
       "      <td>Michael Wang, MD</td>\n",
       "      <td>this phase   acalabrutinib venetoclax  av  tri...</td>\n",
       "    </tr>\n",
       "    <tr>\n",
       "      <th>2</th>\n",
       "      <td>1stOncology</td>\n",
       "      <td>nice backs  astrazenecas  calquence for  cll ...</td>\n",
       "    </tr>\n",
       "    <tr>\n",
       "      <th>3</th>\n",
       "      <td>Toby Eyre</td>\n",
       "      <td>acalabrutinib is a valuable option in pts int...</td>\n",
       "    </tr>\n",
       "    <tr>\n",
       "      <th>4</th>\n",
       "      <td>Lymphoma Hub</td>\n",
       "      <td>nice has recommended the use of acalabrutinib ...</td>\n",
       "    </tr>\n",
       "  </tbody>\n",
       "</table>\n",
       "</div>"
      ],
      "text/plain": [
       "         tweet_author                                         tweet_text\n",
       "0  Hematopoiesis News     scientists conducted a phase ii study of ac...\n",
       "1    Michael Wang, MD  this phase   acalabrutinib venetoclax  av  tri...\n",
       "2         1stOncology   nice backs  astrazenecas  calquence for  cll ...\n",
       "3           Toby Eyre   acalabrutinib is a valuable option in pts int...\n",
       "4        Lymphoma Hub  nice has recommended the use of acalabrutinib ..."
      ]
     },
     "execution_count": 14,
     "metadata": {},
     "output_type": "execute_result"
    }
   ],
   "source": [
    "sentiment.head()"
   ]
  },
  {
   "cell_type": "code",
   "execution_count": 15,
   "id": "8930afa4",
   "metadata": {},
   "outputs": [],
   "source": [
    "from textblob import TextBlob"
   ]
  },
  {
   "cell_type": "code",
   "execution_count": 16,
   "id": "3d525a20",
   "metadata": {},
   "outputs": [],
   "source": [
    "def getsubjectivity(text):\n",
    "    subj=TextBlob(text).sentiment.subjectivity\n",
    "    return subj\n",
    "\n",
    "def getpolarity(text):\n",
    "    return TextBlob(text).sentiment.polarity\n",
    "\n",
    "sentiment['subjectivity']=sentiment['tweet_text'].apply(getsubjectivity)\n",
    "sentiment['getpolarity']=sentiment['tweet_text'].apply(getpolarity)"
   ]
  },
  {
   "cell_type": "code",
   "execution_count": 17,
   "id": "6197282b",
   "metadata": {},
   "outputs": [
    {
     "data": {
      "text/html": [
       "<div>\n",
       "<style scoped>\n",
       "    .dataframe tbody tr th:only-of-type {\n",
       "        vertical-align: middle;\n",
       "    }\n",
       "\n",
       "    .dataframe tbody tr th {\n",
       "        vertical-align: top;\n",
       "    }\n",
       "\n",
       "    .dataframe thead th {\n",
       "        text-align: right;\n",
       "    }\n",
       "</style>\n",
       "<table border=\"1\" class=\"dataframe\">\n",
       "  <thead>\n",
       "    <tr style=\"text-align: right;\">\n",
       "      <th></th>\n",
       "      <th>tweet_author</th>\n",
       "      <th>tweet_text</th>\n",
       "      <th>subjectivity</th>\n",
       "      <th>getpolarity</th>\n",
       "    </tr>\n",
       "  </thead>\n",
       "  <tbody>\n",
       "    <tr>\n",
       "      <th>0</th>\n",
       "      <td>Hematopoiesis News</td>\n",
       "      <td>scientists conducted a phase ii study of ac...</td>\n",
       "      <td>0.00</td>\n",
       "      <td>0.00</td>\n",
       "    </tr>\n",
       "    <tr>\n",
       "      <th>1</th>\n",
       "      <td>Michael Wang, MD</td>\n",
       "      <td>this phase   acalabrutinib venetoclax  av  tri...</td>\n",
       "      <td>0.00</td>\n",
       "      <td>0.00</td>\n",
       "    </tr>\n",
       "    <tr>\n",
       "      <th>2</th>\n",
       "      <td>1stOncology</td>\n",
       "      <td>nice backs  astrazenecas  calquence for  cll ...</td>\n",
       "      <td>1.00</td>\n",
       "      <td>0.60</td>\n",
       "    </tr>\n",
       "    <tr>\n",
       "      <th>3</th>\n",
       "      <td>Toby Eyre</td>\n",
       "      <td>acalabrutinib is a valuable option in pts int...</td>\n",
       "      <td>0.40</td>\n",
       "      <td>0.05</td>\n",
       "    </tr>\n",
       "    <tr>\n",
       "      <th>4</th>\n",
       "      <td>Lymphoma Hub</td>\n",
       "      <td>nice has recommended the use of acalabrutinib ...</td>\n",
       "      <td>0.75</td>\n",
       "      <td>0.55</td>\n",
       "    </tr>\n",
       "  </tbody>\n",
       "</table>\n",
       "</div>"
      ],
      "text/plain": [
       "         tweet_author                                         tweet_text  \\\n",
       "0  Hematopoiesis News     scientists conducted a phase ii study of ac...   \n",
       "1    Michael Wang, MD  this phase   acalabrutinib venetoclax  av  tri...   \n",
       "2         1stOncology   nice backs  astrazenecas  calquence for  cll ...   \n",
       "3           Toby Eyre   acalabrutinib is a valuable option in pts int...   \n",
       "4        Lymphoma Hub  nice has recommended the use of acalabrutinib ...   \n",
       "\n",
       "   subjectivity  getpolarity  \n",
       "0          0.00         0.00  \n",
       "1          0.00         0.00  \n",
       "2          1.00         0.60  \n",
       "3          0.40         0.05  \n",
       "4          0.75         0.55  "
      ]
     },
     "execution_count": 17,
     "metadata": {},
     "output_type": "execute_result"
    }
   ],
   "source": [
    "sentiment.head()"
   ]
  },
  {
   "cell_type": "code",
   "execution_count": 18,
   "id": "5417ace2",
   "metadata": {},
   "outputs": [],
   "source": [
    "def geranalysis(score):\n",
    "    if score < 0:\n",
    "        return \"Negative\"\n",
    "    elif score == 0:\n",
    "        return \"Neutral\"\n",
    "    else:\n",
    "        return \"Positive\"\n",
    "    \n",
    "sentiment['Analysis']=sentiment['getpolarity'].apply( geranalysis)"
   ]
  },
  {
   "cell_type": "code",
   "execution_count": 19,
   "id": "ee4090d8",
   "metadata": {},
   "outputs": [
    {
     "data": {
      "text/html": [
       "<div>\n",
       "<style scoped>\n",
       "    .dataframe tbody tr th:only-of-type {\n",
       "        vertical-align: middle;\n",
       "    }\n",
       "\n",
       "    .dataframe tbody tr th {\n",
       "        vertical-align: top;\n",
       "    }\n",
       "\n",
       "    .dataframe thead th {\n",
       "        text-align: right;\n",
       "    }\n",
       "</style>\n",
       "<table border=\"1\" class=\"dataframe\">\n",
       "  <thead>\n",
       "    <tr style=\"text-align: right;\">\n",
       "      <th></th>\n",
       "      <th>tweet_author</th>\n",
       "      <th>tweet_text</th>\n",
       "      <th>subjectivity</th>\n",
       "      <th>getpolarity</th>\n",
       "      <th>Analysis</th>\n",
       "    </tr>\n",
       "  </thead>\n",
       "  <tbody>\n",
       "    <tr>\n",
       "      <th>33510</th>\n",
       "      <td>Shelley Webb</td>\n",
       "      <td>seeking more options for  cll  a new  clinical...</td>\n",
       "      <td>0.484848</td>\n",
       "      <td>0.378788</td>\n",
       "      <td>Positive</td>\n",
       "    </tr>\n",
       "    <tr>\n",
       "      <th>13075</th>\n",
       "      <td>SwingTradeBot UK</td>\n",
       "      <td>scan results   shooting star candlestick today...</td>\n",
       "      <td>0.000000</td>\n",
       "      <td>0.000000</td>\n",
       "      <td>Neutral</td>\n",
       "    </tr>\n",
       "    <tr>\n",
       "      <th>20748</th>\n",
       "      <td>Leukemia &amp; Lymphoma Society Research</td>\n",
       "      <td>clinical results from  osuccc james shows ibru...</td>\n",
       "      <td>0.166667</td>\n",
       "      <td>-0.166667</td>\n",
       "      <td>Negative</td>\n",
       "    </tr>\n",
       "    <tr>\n",
       "      <th>35497</th>\n",
       "      <td>Oncology Tube</td>\n",
       "      <td>eha       the treatment of relapsed refractory...</td>\n",
       "      <td>0.000000</td>\n",
       "      <td>0.000000</td>\n",
       "      <td>Neutral</td>\n",
       "    </tr>\n",
       "    <tr>\n",
       "      <th>39805</th>\n",
       "      <td>Patient Power</td>\n",
       "      <td>community matters  new blog by  cll er cj  htt...</td>\n",
       "      <td>0.454545</td>\n",
       "      <td>0.136364</td>\n",
       "      <td>Positive</td>\n",
       "    </tr>\n",
       "    <tr>\n",
       "      <th>13309</th>\n",
       "      <td>Dr. Andy Evens</td>\n",
       "      <td>that s a lot of mutual weekends  must be up to...</td>\n",
       "      <td>0.000000</td>\n",
       "      <td>0.000000</td>\n",
       "      <td>Neutral</td>\n",
       "    </tr>\n",
       "    <tr>\n",
       "      <th>1758</th>\n",
       "      <td>CALQUENCE® (acalabrutinib)</td>\n",
       "      <td>https   t co w  aqpuk a calquence is an oral t...</td>\n",
       "      <td>0.300000</td>\n",
       "      <td>0.100000</td>\n",
       "      <td>Positive</td>\n",
       "    </tr>\n",
       "    <tr>\n",
       "      <th>4012</th>\n",
       "      <td>Екатерина Голубева</td>\n",
       "      <td>luciacalabru                    calquence     ...</td>\n",
       "      <td>0.000000</td>\n",
       "      <td>0.000000</td>\n",
       "      <td>Neutral</td>\n",
       "    </tr>\n",
       "    <tr>\n",
       "      <th>39824</th>\n",
       "      <td>Med-IQ</td>\n",
       "      <td>how are targeted therapies affecting outcomes ...</td>\n",
       "      <td>0.000000</td>\n",
       "      <td>0.000000</td>\n",
       "      <td>Neutral</td>\n",
       "    </tr>\n",
       "    <tr>\n",
       "      <th>26909</th>\n",
       "      <td>ImmunologyPapers</td>\n",
       "      <td>ch  leukemia wnt a induces ror  to complex wi...</td>\n",
       "      <td>0.400000</td>\n",
       "      <td>-0.300000</td>\n",
       "      <td>Negative</td>\n",
       "    </tr>\n",
       "  </tbody>\n",
       "</table>\n",
       "</div>"
      ],
      "text/plain": [
       "                               tweet_author  \\\n",
       "33510                          Shelley Webb   \n",
       "13075                      SwingTradeBot UK   \n",
       "20748  Leukemia & Lymphoma Society Research   \n",
       "35497                         Oncology Tube   \n",
       "39805                         Patient Power   \n",
       "13309                        Dr. Andy Evens   \n",
       "1758             CALQUENCE® (acalabrutinib)   \n",
       "4012                     Екатерина Голубева   \n",
       "39824                                Med-IQ   \n",
       "26909                      ImmunologyPapers   \n",
       "\n",
       "                                              tweet_text  subjectivity  \\\n",
       "33510  seeking more options for  cll  a new  clinical...      0.484848   \n",
       "13075  scan results   shooting star candlestick today...      0.000000   \n",
       "20748  clinical results from  osuccc james shows ibru...      0.166667   \n",
       "35497  eha       the treatment of relapsed refractory...      0.000000   \n",
       "39805  community matters  new blog by  cll er cj  htt...      0.454545   \n",
       "13309  that s a lot of mutual weekends  must be up to...      0.000000   \n",
       "1758   https   t co w  aqpuk a calquence is an oral t...      0.300000   \n",
       "4012   luciacalabru                    calquence     ...      0.000000   \n",
       "39824  how are targeted therapies affecting outcomes ...      0.000000   \n",
       "26909   ch  leukemia wnt a induces ror  to complex wi...      0.400000   \n",
       "\n",
       "       getpolarity  Analysis  \n",
       "33510     0.378788  Positive  \n",
       "13075     0.000000   Neutral  \n",
       "20748    -0.166667  Negative  \n",
       "35497     0.000000   Neutral  \n",
       "39805     0.136364  Positive  \n",
       "13309     0.000000   Neutral  \n",
       "1758      0.100000  Positive  \n",
       "4012      0.000000   Neutral  \n",
       "39824     0.000000   Neutral  \n",
       "26909    -0.300000  Negative  "
      ]
     },
     "execution_count": 19,
     "metadata": {},
     "output_type": "execute_result"
    }
   ],
   "source": [
    "sentiment.sample(10)"
   ]
  },
  {
   "cell_type": "code",
   "execution_count": 20,
   "id": "6b8a552b",
   "metadata": {},
   "outputs": [],
   "source": [
    "import nltk"
   ]
  },
  {
   "cell_type": "code",
   "execution_count": 21,
   "id": "92b49c38",
   "metadata": {},
   "outputs": [
    {
     "name": "stderr",
     "output_type": "stream",
     "text": [
      "[nltk_data] Downloading package stopwords to\n",
      "[nltk_data]     C:\\Users\\Amit\\AppData\\Roaming\\nltk_data...\n",
      "[nltk_data]   Package stopwords is already up-to-date!\n",
      "[nltk_data] Downloading package punkt to\n",
      "[nltk_data]     C:\\Users\\Amit\\AppData\\Roaming\\nltk_data...\n",
      "[nltk_data]   Package punkt is already up-to-date!\n"
     ]
    },
    {
     "data": {
      "text/plain": [
       "True"
      ]
     },
     "execution_count": 21,
     "metadata": {},
     "output_type": "execute_result"
    }
   ],
   "source": [
    "nltk.download(\"stopwords\")\n",
    "nltk.download(\"punkt\")"
   ]
  },
  {
   "cell_type": "code",
   "execution_count": 22,
   "id": "46b4b4e8",
   "metadata": {},
   "outputs": [
    {
     "name": "stderr",
     "output_type": "stream",
     "text": [
      "[nltk_data] Downloading package wordnet to\n",
      "[nltk_data]     C:\\Users\\Amit\\AppData\\Roaming\\nltk_data...\n",
      "[nltk_data]   Package wordnet is already up-to-date!\n"
     ]
    },
    {
     "data": {
      "text/plain": [
       "True"
      ]
     },
     "execution_count": 22,
     "metadata": {},
     "output_type": "execute_result"
    }
   ],
   "source": [
    "nltk.download('wordnet')"
   ]
  },
  {
   "cell_type": "code",
   "execution_count": 23,
   "id": "f1ac84db",
   "metadata": {},
   "outputs": [],
   "source": [
    "from nltk.corpus import stopwords\n",
    "from nltk.stem import WordNetLemmatizer\n",
    "from nltk.tokenize import word_tokenize"
   ]
  },
  {
   "cell_type": "code",
   "execution_count": 24,
   "id": "9959f3e4",
   "metadata": {},
   "outputs": [],
   "source": [
    "wrl=WordNetLemmatizer()\n",
    "all_stopwords=stopwords.words(\"english\")"
   ]
  },
  {
   "cell_type": "code",
   "execution_count": 25,
   "id": "71b29c50",
   "metadata": {},
   "outputs": [],
   "source": [
    "corpus=[]\n",
    "for i in range(0,43347):\n",
    "    review=word_tokenize(sentiment['tweet_text'][i],'english')\n",
    "    review=[wrl.lemmatize(word) for word in review if word not in set(all_stopwords)]\n",
    "    review=\" \".join(review)\n",
    "    corpus.append(review)\n",
    "    \n",
    "    "
   ]
  },
  {
   "cell_type": "code",
   "execution_count": 26,
   "id": "b18a6ec2",
   "metadata": {},
   "outputs": [],
   "source": [
    "tweet2=pd.DataFrame(corpus)\n",
    "tweet2.columns=['tweet_text']"
   ]
  },
  {
   "cell_type": "code",
   "execution_count": 27,
   "id": "1edd577e",
   "metadata": {},
   "outputs": [
    {
     "data": {
      "text/html": [
       "<div>\n",
       "<style scoped>\n",
       "    .dataframe tbody tr th:only-of-type {\n",
       "        vertical-align: middle;\n",
       "    }\n",
       "\n",
       "    .dataframe tbody tr th {\n",
       "        vertical-align: top;\n",
       "    }\n",
       "\n",
       "    .dataframe thead th {\n",
       "        text-align: right;\n",
       "    }\n",
       "</style>\n",
       "<table border=\"1\" class=\"dataframe\">\n",
       "  <thead>\n",
       "    <tr style=\"text-align: right;\">\n",
       "      <th></th>\n",
       "      <th>tweet_text</th>\n",
       "    </tr>\n",
       "  </thead>\n",
       "  <tbody>\n",
       "    <tr>\n",
       "      <th>0</th>\n",
       "      <td>scientist conducted phase ii study acalabrutin...</td>\n",
       "    </tr>\n",
       "    <tr>\n",
       "      <th>1</th>\n",
       "      <td>phase acalabrutinib venetoclax av trial still ...</td>\n",
       "    </tr>\n",
       "    <tr>\n",
       "      <th>2</th>\n",
       "      <td>nice back astrazenecas calquence cll http co v...</td>\n",
       "    </tr>\n",
       "    <tr>\n",
       "      <th>3</th>\n",
       "      <td>acalabrutinib valuable option pt intolerant ib...</td>\n",
       "    </tr>\n",
       "    <tr>\n",
       "      <th>4</th>\n",
       "      <td>nice recommended use acalabrutinib patient tre...</td>\n",
       "    </tr>\n",
       "  </tbody>\n",
       "</table>\n",
       "</div>"
      ],
      "text/plain": [
       "                                          tweet_text\n",
       "0  scientist conducted phase ii study acalabrutin...\n",
       "1  phase acalabrutinib venetoclax av trial still ...\n",
       "2  nice back astrazenecas calquence cll http co v...\n",
       "3  acalabrutinib valuable option pt intolerant ib...\n",
       "4  nice recommended use acalabrutinib patient tre..."
      ]
     },
     "execution_count": 27,
     "metadata": {},
     "output_type": "execute_result"
    }
   ],
   "source": [
    "tweet2.head()"
   ]
  },
  {
   "cell_type": "code",
   "execution_count": 28,
   "id": "0c90bc40",
   "metadata": {},
   "outputs": [],
   "source": [
    "author=sentiment['tweet_author']"
   ]
  },
  {
   "cell_type": "code",
   "execution_count": 29,
   "id": "f2c9c218",
   "metadata": {},
   "outputs": [],
   "source": [
    "tweet1=pd.DataFrame(author)\n",
    "tweet1.columns=['tweet_author']"
   ]
  },
  {
   "cell_type": "code",
   "execution_count": 30,
   "id": "2b940fd3",
   "metadata": {},
   "outputs": [
    {
     "data": {
      "text/html": [
       "<div>\n",
       "<style scoped>\n",
       "    .dataframe tbody tr th:only-of-type {\n",
       "        vertical-align: middle;\n",
       "    }\n",
       "\n",
       "    .dataframe tbody tr th {\n",
       "        vertical-align: top;\n",
       "    }\n",
       "\n",
       "    .dataframe thead th {\n",
       "        text-align: right;\n",
       "    }\n",
       "</style>\n",
       "<table border=\"1\" class=\"dataframe\">\n",
       "  <thead>\n",
       "    <tr style=\"text-align: right;\">\n",
       "      <th></th>\n",
       "      <th>tweet_author</th>\n",
       "    </tr>\n",
       "  </thead>\n",
       "  <tbody>\n",
       "    <tr>\n",
       "      <th>0</th>\n",
       "      <td>Hematopoiesis News</td>\n",
       "    </tr>\n",
       "    <tr>\n",
       "      <th>1</th>\n",
       "      <td>Michael Wang, MD</td>\n",
       "    </tr>\n",
       "    <tr>\n",
       "      <th>2</th>\n",
       "      <td>1stOncology</td>\n",
       "    </tr>\n",
       "    <tr>\n",
       "      <th>3</th>\n",
       "      <td>Toby Eyre</td>\n",
       "    </tr>\n",
       "    <tr>\n",
       "      <th>4</th>\n",
       "      <td>Lymphoma Hub</td>\n",
       "    </tr>\n",
       "  </tbody>\n",
       "</table>\n",
       "</div>"
      ],
      "text/plain": [
       "         tweet_author\n",
       "0  Hematopoiesis News\n",
       "1    Michael Wang, MD\n",
       "2         1stOncology\n",
       "3           Toby Eyre\n",
       "4        Lymphoma Hub"
      ]
     },
     "execution_count": 30,
     "metadata": {},
     "output_type": "execute_result"
    }
   ],
   "source": [
    "tweet1.head()"
   ]
  },
  {
   "cell_type": "code",
   "execution_count": 31,
   "id": "9f4fafd5",
   "metadata": {},
   "outputs": [],
   "source": [
    "tweet_data=pd.concat([tweet1,tweet2],axis=1)"
   ]
  },
  {
   "cell_type": "code",
   "execution_count": 32,
   "id": "dd9481ac",
   "metadata": {},
   "outputs": [
    {
     "data": {
      "text/html": [
       "<div>\n",
       "<style scoped>\n",
       "    .dataframe tbody tr th:only-of-type {\n",
       "        vertical-align: middle;\n",
       "    }\n",
       "\n",
       "    .dataframe tbody tr th {\n",
       "        vertical-align: top;\n",
       "    }\n",
       "\n",
       "    .dataframe thead th {\n",
       "        text-align: right;\n",
       "    }\n",
       "</style>\n",
       "<table border=\"1\" class=\"dataframe\">\n",
       "  <thead>\n",
       "    <tr style=\"text-align: right;\">\n",
       "      <th></th>\n",
       "      <th>tweet_author</th>\n",
       "      <th>tweet_text</th>\n",
       "    </tr>\n",
       "  </thead>\n",
       "  <tbody>\n",
       "    <tr>\n",
       "      <th>0</th>\n",
       "      <td>Hematopoiesis News</td>\n",
       "      <td>scientist conducted phase ii study acalabrutin...</td>\n",
       "    </tr>\n",
       "    <tr>\n",
       "      <th>1</th>\n",
       "      <td>Michael Wang, MD</td>\n",
       "      <td>phase acalabrutinib venetoclax av trial still ...</td>\n",
       "    </tr>\n",
       "    <tr>\n",
       "      <th>2</th>\n",
       "      <td>1stOncology</td>\n",
       "      <td>nice back astrazenecas calquence cll http co v...</td>\n",
       "    </tr>\n",
       "    <tr>\n",
       "      <th>3</th>\n",
       "      <td>Toby Eyre</td>\n",
       "      <td>acalabrutinib valuable option pt intolerant ib...</td>\n",
       "    </tr>\n",
       "    <tr>\n",
       "      <th>4</th>\n",
       "      <td>Lymphoma Hub</td>\n",
       "      <td>nice recommended use acalabrutinib patient tre...</td>\n",
       "    </tr>\n",
       "  </tbody>\n",
       "</table>\n",
       "</div>"
      ],
      "text/plain": [
       "         tweet_author                                         tweet_text\n",
       "0  Hematopoiesis News  scientist conducted phase ii study acalabrutin...\n",
       "1    Michael Wang, MD  phase acalabrutinib venetoclax av trial still ...\n",
       "2         1stOncology  nice back astrazenecas calquence cll http co v...\n",
       "3           Toby Eyre  acalabrutinib valuable option pt intolerant ib...\n",
       "4        Lymphoma Hub  nice recommended use acalabrutinib patient tre..."
      ]
     },
     "execution_count": 32,
     "metadata": {},
     "output_type": "execute_result"
    }
   ],
   "source": [
    "tweet_data.head()"
   ]
  },
  {
   "cell_type": "code",
   "execution_count": 33,
   "id": "622a4f2c",
   "metadata": {},
   "outputs": [],
   "source": [
    "data12=\" \".join(tweet_data['tweet_text'])"
   ]
  },
  {
   "cell_type": "code",
   "execution_count": 34,
   "id": "ff36e359",
   "metadata": {},
   "outputs": [],
   "source": [
    "data123=data12.split()"
   ]
  },
  {
   "cell_type": "code",
   "execution_count": 35,
   "id": "d2603182",
   "metadata": {},
   "outputs": [],
   "source": [
    "from collections import Counter"
   ]
  },
  {
   "cell_type": "code",
   "execution_count": 40,
   "id": "1b4f563c",
   "metadata": {},
   "outputs": [
    {
     "name": "stdout",
     "output_type": "stream",
     "text": [
      "[('co', 50117), ('http', 49955), ('cll', 29421), ('leukemia', 20314), ('lymphocytic', 17475), ('chronic', 17194), ('patient', 10017), ('treatment', 6295), ('new', 5663), ('cancer', 4593), ('cell', 4481), ('lymphoma', 4407), ('leusm', 4209), ('ibrutinib', 4144), ('amp', 3852), ('acalabrutinib', 3800), ('ash', 3035), ('dr', 2853), ('calquence', 2832), ('therapy', 2826), ('hematology', 2775), ('trial', 2769), ('venetoclax', 2673), ('w', 2542), ('b', 2506), ('study', 2480), ('relapsed', 2458), ('u', 2341), ('drug', 2320), ('r', 2183), ('fda', 2073), ('v', 2023), ('clinical', 1781), ('p', 1761), ('article', 1659), ('phase', 1658), ('via', 1609), ('refractory', 1597), ('data', 1559), ('covid', 1482), ('astrazeneca', 1459), ('lymsm', 1455), ('n', 1405), ('research', 1404), ('e', 1369), ('expert', 1337), ('c', 1324), ('l', 1323), ('risk', 1311), ('inhibitor', 1299), ('k', 1257), ('rituximab', 1256), ('video', 1237), ('leukaemia', 1223), ('learn', 1221), ('combination', 1212), ('q', 1203), ('adult', 1152), ('blood', 1147), ('cllsm', 1136), ('result', 1126), ('f', 1120), ('btk', 1109), ('j', 1101), ('high', 1084), ('oncology', 1073), ('disease', 1073), ('g', 1054), ('h', 1046), ('discus', 1024), ('de', 1023), ('x', 1015), ('today', 992), ('option', 975), ('obinutuzumab', 966), ('year', 965), ('first', 940), ('response', 915), ('small', 908), ('z', 890), ('news', 882), ('show', 873), ('md', 866), ('mantle', 851), ('review', 850), ('line', 837), ('get', 822), ('imbruvica', 814), ('plus', 801), ('may', 799), ('asco', 797), ('pt', 789), ('free', 788), ('watch', 787), ('survival', 783), ('treated', 780), ('targeted', 779), ('eha', 778), ('cd', 773), ('approved', 757)]\n"
     ]
    }
   ],
   "source": [
    "word_freq=Counter(data123)\n",
    "coomon_words=word_freq.most_common(100)\n",
    "print(coomon_words)"
   ]
  },
  {
   "cell_type": "code",
   "execution_count": 42,
   "id": "7940881f",
   "metadata": {},
   "outputs": [],
   "source": [
    "tweet_analysis=sentiment[['tweet_author','tweet_text','Analysis']]"
   ]
  },
  {
   "cell_type": "code",
   "execution_count": 43,
   "id": "6a126e89",
   "metadata": {},
   "outputs": [],
   "source": [
    "tweet_analysis.to_excel(\"tweet_analysis.xlsx\")"
   ]
  },
  {
   "cell_type": "code",
   "execution_count": null,
   "id": "ec294c1f",
   "metadata": {},
   "outputs": [],
   "source": []
  }
 ],
 "metadata": {
  "kernelspec": {
   "display_name": "Python 3",
   "language": "python",
   "name": "python3"
  },
  "language_info": {
   "codemirror_mode": {
    "name": "ipython",
    "version": 3
   },
   "file_extension": ".py",
   "mimetype": "text/x-python",
   "name": "python",
   "nbconvert_exporter": "python",
   "pygments_lexer": "ipython3",
   "version": "3.8.8"
  }
 },
 "nbformat": 4,
 "nbformat_minor": 5
}
